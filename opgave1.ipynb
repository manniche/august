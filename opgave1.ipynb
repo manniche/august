{
 "cells": [
  {
   "cell_type": "markdown",
   "metadata": {},
   "source": [
    "# Opsætning af biblioteker og hjælpe metoder\n",
    "\n",
    "Til at starte med sikrer vi at alle afhængigheder er installerede og importerede.\n",
    "\n",
    "Derefter definerer vi en hjælpemetode til at printe vores tabeller"
   ]
  },
  {
   "cell_type": "code",
   "execution_count": 1,
   "metadata": {},
   "outputs": [],
   "source": [
    "!pip install numpy 2&>1\n",
    "!pip install matplotlib 2&>1\n",
    "!pip install scipy 2&>1\n",
    "!pip install tabulate 2&>1"
   ]
  },
  {
   "cell_type": "code",
   "execution_count": 2,
   "metadata": {},
   "outputs": [],
   "source": [
    "import numpy\n",
    "import matplotlib.pyplot as plt\n",
    "from scipy import stats\n",
    "from tabulate import tabulate"
   ]
  },
  {
   "cell_type": "code",
   "execution_count": 44,
   "metadata": {},
   "outputs": [],
   "source": [
    "def print_tabel(tabel:dict, headers:list)->None:\n",
    "    print(f\"{headers[0]:<12}|{headers[1]}\")\n",
    "    print(\"=\"*int(len(\"\".join(headers))+4))\n",
    "    for k, v in tabel.items():\n",
    "        print(f\"{k:<12}|{v}\")"
   ]
  },
  {
   "cell_type": "markdown",
   "metadata": {},
   "source": [
    "# Datagrundlag\n",
    "Først skal vi etablere vores datagrundlag"
   ]
  },
  {
   "cell_type": "code",
   "execution_count": 45,
   "metadata": {},
   "outputs": [],
   "source": [
    "liter_cola = [0.25, 0.5, 1.2, 0, 2, 1.75, 0.5, 0.5, 0.25, 0, 2.5, 0.3, 0.2, 0, 0.25, 0.5, 0.75, 0.4, 0.3, 0.4, 0.75, 1, 1, 0.5, 1.5, 1.2, 2.25, 0.4]"
   ]
  },
  {
   "cell_type": "code",
   "execution_count": 46,
   "metadata": {},
   "outputs": [
    {
     "data": {
      "text/plain": [
       "28"
      ]
     },
     "execution_count": 46,
     "metadata": {},
     "output_type": "execute_result"
    }
   ],
   "source": [
    "len(liter_cola)"
   ]
  },
  {
   "cell_type": "code",
   "execution_count": 47,
   "metadata": {},
   "outputs": [
    {
     "data": {
      "text/plain": [
       "Text(0.5, 1.0, 'Histogram af hvor mange liter cola elever drikker om ugen')"
      ]
     },
     "execution_count": 47,
     "metadata": {},
     "output_type": "execute_result"
    },
    {
     "data": {
      "image/png": "[encoded data removed]",
      "text/plain": [
       "<Figure size 432x288 with 1 Axes>"
      ]
     },
     "metadata": {
      "needs_background": "light"
     },
     "output_type": "display_data"
    }
   ],
   "source": [
    "_ = plt.hist(liter_cola, 50, density=True, facecolor='g', alpha=0.75)\n",
    "plt.xlabel('liter cola')\n",
    "plt.ylabel('antal elever')\n",
    "plt.title('Histogram af hvor mange liter cola elever drikker om ugen')"
   ]
  },
  {
   "cell_type": "code",
   "execution_count": 48,
   "metadata": {},
   "outputs": [
    {
     "data": {
      "text/plain": [
       "DescribeResult(nobs=28, minmax=(0.0, 2.5), mean=0.7553571428571427, variance=0.47376653439153443, skewness=1.1475059272060133, kurtosis=0.32812537280805687)"
      ]
     },
     "execution_count": 48,
     "metadata": {},
     "output_type": "execute_result"
    }
   ],
   "source": [
    "stats.describe(liter_cola)"
   ]
  },
  {
   "cell_type": "markdown",
   "metadata": {},
   "source": [
    "# Tabeller med h(x), H(x), f(x) og F(x)\n",
    "\n",
    "`h(x)`: hyppighed af observationer i `x`\n",
    "\n",
    "`H(x)`: summeret hyppighed af observationer i `x`\n",
    "\n",
    "`f(x)`: frekvens af observationer i `x`\n",
    "\n",
    "`F(x)`: summeret hyppighed af observationer i `x`\n",
    "\n",
    "## Hyppighed af observationer i `liter_cola`"
   ]
  },
  {
   "cell_type": "code",
   "execution_count": 49,
   "metadata": {},
   "outputs": [],
   "source": [
    "def h(x: list)->dict:\n",
    "    \"\"\"\n",
    "    >>> h([1,2,3,2,1,1])\n",
    "    {1:3, 2:2, 3:1}\n",
    "    \"\"\"\n",
    "    y = dict()\n",
    "    for elem in x:\n",
    "        if not elem in y.keys():\n",
    "            y[elem] = 0\n",
    "        y[elem] += 1\n",
    "    return y\n",
    "\n",
    "hyppighed = h(liter_cola)"
   ]
  },
  {
   "cell_type": "code",
   "execution_count": 50,
   "metadata": {},
   "outputs": [
    {
     "name": "stdout",
     "output_type": "stream",
     "text": [
      "liter cola  |antal elever\n",
      "==========================\n",
      "0.25        |3\n",
      "0.5         |5\n",
      "1.2         |2\n",
      "0           |3\n",
      "2           |1\n",
      "1.75        |1\n",
      "2.5         |1\n",
      "0.3         |2\n",
      "0.2         |1\n",
      "0.75        |2\n",
      "0.4         |3\n",
      "1           |2\n",
      "1.5         |1\n",
      "2.25        |1\n"
     ]
    }
   ],
   "source": [
    "print_tabel(hyppighed, [\"liter cola\", \"antal elever\"])"
   ]
  },
  {
   "cell_type": "code",
   "execution_count": 51,
   "metadata": {},
   "outputs": [
    {
     "name": "stdout",
     "output_type": "stream",
     "text": [
      "liter cola  |antal elever der drikker dette eller mindre\n",
      "=========================================================\n",
      "0.25        |3\n",
      "0.5         |8\n",
      "1.2         |10\n",
      "0           |13\n",
      "2           |14\n",
      "1.75        |15\n",
      "2.5         |16\n",
      "0.3         |18\n",
      "0.2         |19\n",
      "0.75        |21\n",
      "0.4         |24\n",
      "1           |26\n",
      "1.5         |27\n",
      "2.25        |28\n"
     ]
    }
   ],
   "source": [
    "def H(y):\n",
    "    summeret_hyppighed = {}\n",
    "    cache = 0\n",
    "    for key, value in y.items():\n",
    "        summeret_hyppighed[key] = value + cache\n",
    "        cache += value\n",
    "    return summeret_hyppighed\n",
    "summeret_hyppighed = H(hyppighed)\n",
    "print_tabel(summeret_hyppighed, [\"liter cola\", \"antal elever der drikker dette eller mindre\"])"
   ]
  },
  {
   "cell_type": "code",
   "execution_count": 52,
   "metadata": {},
   "outputs": [
    {
     "name": "stdout",
     "output_type": "stream",
     "text": [
      "liter cola  |frekvens af elever der drikker denne mængde\n",
      "=========================================================\n",
      "0.25        |10.71\n",
      "0.5         |17.86\n",
      "1.2         |7.14\n",
      "0           |10.71\n",
      "2           |3.57\n",
      "1.75        |3.57\n",
      "2.5         |3.57\n",
      "0.3         |7.14\n",
      "0.2         |3.57\n",
      "0.75        |7.14\n",
      "0.4         |10.71\n",
      "1           |7.14\n",
      "1.5         |3.57\n",
      "2.25        |3.57\n"
     ]
    }
   ],
   "source": [
    "def f(y):\n",
    "    antal_elever = sum(y.values())\n",
    "    frekvenser = {}\n",
    "    for key, value in y.items():\n",
    "        frekvenser[key] = round((value / antal_elever) * 100, 2)\n",
    "    return frekvenser\n",
    "\n",
    "frekvens = f(hyppighed)\n",
    "print_tabel(frekvens, [\"liter cola\", \"frekvens af elever der drikker denne mængde\"])"
   ]
  },
  {
   "cell_type": "code",
   "execution_count": 53,
   "metadata": {},
   "outputs": [
    {
     "name": "stdout",
     "output_type": "stream",
     "text": [
      "liter cola  |frekvens af elever der drikker denne mængde, eller mindre\n",
      "=======================================================================\n",
      "0.25        |10.7\n",
      "0.5         |28.6\n",
      "1.2         |35.7\n",
      "0           |46.4\n",
      "2           |50.0\n",
      "1.75        |53.6\n",
      "2.5         |57.1\n",
      "0.3         |64.3\n",
      "0.2         |67.8\n",
      "0.75        |75.0\n",
      "0.4         |85.7\n",
      "1           |92.8\n",
      "1.5         |96.4\n",
      "2.25        |100.0\n"
     ]
    }
   ],
   "source": [
    "def F(frekvens):\n",
    "    summeret_frekvens = {}\n",
    "    cache = 0\n",
    "    for key, value in frekvens.items():\n",
    "        summeret_frekvens[key] = round(value + cache, 1)\n",
    "        cache += value\n",
    "    return summeret_frekvens\n",
    "summeret_frekvens = F(frekvens)\n",
    "print_tabel(summeret_frekvens, [\"liter cola\", \"frekvens af elever der drikker denne mængde, eller mindre\"])"
   ]
  },
  {
   "cell_type": "code",
   "execution_count": null,
   "metadata": {},
   "outputs": [],
   "source": []
  }
 ],
 "metadata": {
  "kernelspec": {
   "display_name": "Python 3",
   "language": "python",
   "name": "python3"
  },
  "language_info": {
   "codemirror_mode": {
    "name": "ipython",
    "version": 3
   },
   "file_extension": ".py",
   "mimetype": "text/x-python",
   "name": "python",
   "nbconvert_exporter": "python",
   "pygments_lexer": "ipython3",
   "version": "3.7.6"
  }
 },
 "nbformat": 4,
 "nbformat_minor": 4
}
